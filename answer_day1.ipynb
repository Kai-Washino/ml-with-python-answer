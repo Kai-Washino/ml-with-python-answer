{
 "cells": [
  {
   "cell_type": "markdown",
   "id": "ad09ea2e",
   "metadata": {},
   "source": [
    "## 関数の問題\n",
    "1. 2つの引数を割り算する関数を作ってください．\n",
    "2. 割る数が0の時は割らないようにしてください．\n",
    "3. リストを引数にもつ関数を作り，100, 20, 5, 0のリストを5, 2, 0のリストで割ってください（100 / 5, 100 / 2，・・・のように）"
   ]
  },
  {
   "cell_type": "code",
   "execution_count": 8,
   "id": "2182e4e7",
   "metadata": {},
   "outputs": [],
   "source": [
    "def division1(x, y):\n",
    "    return x / y"
   ]
  },
  {
   "cell_type": "code",
   "execution_count": 7,
   "id": "7597c939",
   "metadata": {},
   "outputs": [
    {
     "name": "stdout",
     "output_type": "stream",
     "text": [
      "5.0\n"
     ]
    }
   ],
   "source": [
    "print(division1(10, 2))"
   ]
  },
  {
   "cell_type": "code",
   "execution_count": 19,
   "id": "e44af9b8",
   "metadata": {},
   "outputs": [],
   "source": [
    "def division(x, y):\n",
    "    if y != 0:\n",
    "        return division1(x, y)\n",
    "    else:\n",
    "        return None"
   ]
  },
  {
   "cell_type": "code",
   "execution_count": 20,
   "id": "5f0f4660",
   "metadata": {},
   "outputs": [
    {
     "name": "stdout",
     "output_type": "stream",
     "text": [
      "5.0\n",
      "None\n"
     ]
    }
   ],
   "source": [
    "print(division(10, 2))\n",
    "print(division(10, 0))"
   ]
  },
  {
   "cell_type": "code",
   "execution_count": 26,
   "id": "225c4d34",
   "metadata": {},
   "outputs": [],
   "source": [
    "def list_division(list1, list2):\n",
    "    answer = []\n",
    "    for val1 in list1:\n",
    "        for val2 in list2:\n",
    "            answer.append(division(val1, val2))\n",
    "    return answer"
   ]
  },
  {
   "cell_type": "code",
   "execution_count": 27,
   "id": "bb86f79b",
   "metadata": {},
   "outputs": [
    {
     "name": "stdout",
     "output_type": "stream",
     "text": [
      "[20.0, 50.0, None, 4.0, 10.0, None, 1.0, 2.5, None, 0.0, 0.0, None]\n"
     ]
    }
   ],
   "source": [
    "list1 = [100, 20, 5, 0]\n",
    "list2 = [5, 2, 0]\n",
    "print(list_division(list1, list2))"
   ]
  }
 ],
 "metadata": {
  "kernelspec": {
   "display_name": "Python 3",
   "language": "python",
   "name": "python3"
  },
  "language_info": {
   "codemirror_mode": {
    "name": "ipython",
    "version": 3
   },
   "file_extension": ".py",
   "mimetype": "text/x-python",
   "name": "python",
   "nbconvert_exporter": "python",
   "pygments_lexer": "ipython3",
   "version": "3.8.8"
  }
 },
 "nbformat": 4,
 "nbformat_minor": 5
}
