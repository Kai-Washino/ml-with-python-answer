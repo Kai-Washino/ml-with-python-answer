{
 "cells": [
  {
   "cell_type": "markdown",
   "id": "5a566cbb",
   "metadata": {},
   "source": [
    "### 問題1\n",
    "下記Xとyをpipelineを使って学習させて精度を確かめてください．  \n",
    "estimatorはMinMaxScalerとRidge回帰(alpha = 1)で学習させてください．  \n",
    "\n",
    "まずは，Xとyを訓練データとテストデータにわけましょう．"
   ]
  },
  {
   "cell_type": "code",
   "execution_count": 23,
   "id": "65944851",
   "metadata": {},
   "outputs": [],
   "source": [
    "import numpy as np\n",
    "\n",
    "np.random.seed(0)\n",
    "\n",
    "X = np.random.rand(100, 4)\n",
    "y = np.random.rand(100)"
   ]
  },
  {
   "cell_type": "code",
   "execution_count": 24,
   "id": "20185e62",
   "metadata": {},
   "outputs": [],
   "source": [
    "from sklearn.model_selection import train_test_split, GridSearchCV\n",
    "\n",
    "X_train, X_test, y_train, y_test = train_test_split(X, y,\n",
    "                                                    random_state=42)"
   ]
  },
  {
   "cell_type": "code",
   "execution_count": 25,
   "id": "fa02133d",
   "metadata": {},
   "outputs": [
    {
     "name": "stdout",
     "output_type": "stream",
     "text": [
      "-0.08865291996465641\n"
     ]
    }
   ],
   "source": [
    "from sklearn.pipeline import Pipeline, make_pipeline\n",
    "from sklearn.linear_model import Ridge\n",
    "from sklearn.preprocessing import MinMaxScaler\n",
    "\n",
    "pipe=make_pipeline(MinMaxScaler(), Ridge(alpha=1))\n",
    "pipe.fit(X_train, y_train)\n",
    "\n",
    "print(pipe.score(X_test, y_test))"
   ]
  },
  {
   "cell_type": "markdown",
   "id": "1cdb048d",
   "metadata": {},
   "source": [
    "### 問題2\n",
    "同じXとyをpipelineを使ってグリッドサーチしてください．  \n",
    "グリッドサーチに使う学習器とハイパーパラメタは以下です．\n",
    "\n",
    "- リッジ回帰，標準化と無，alpha = 0.1, 1, 10\n",
    "- 線形回帰，標準化と無\n",
    "- RandomForest，無，木の数 = 10, 100, 木の深さ = 無, 10, 20"
   ]
  },
  {
   "cell_type": "code",
   "execution_count": 26,
   "id": "37599e86",
   "metadata": {},
   "outputs": [],
   "source": [
    "from sklearn.pipeline import Pipeline, make_pipeline\n",
    "\n",
    "from sklearn.linear_model import Ridge, LinearRegression\n",
    "from sklearn.ensemble import RandomForestRegressor\n",
    "\n",
    "from sklearn.preprocessing import StandardScaler"
   ]
  },
  {
   "cell_type": "code",
   "execution_count": 30,
   "id": "87d03ad8",
   "metadata": {},
   "outputs": [],
   "source": [
    "pipeline = Pipeline([\n",
    "    ('preprocessing', StandardScaler()),  \n",
    "    ('regressor', LinearRegression()) \n",
    "])"
   ]
  },
  {
   "cell_type": "code",
   "execution_count": 31,
   "id": "aec5cc3b",
   "metadata": {},
   "outputs": [],
   "source": [
    "param_grid = [\n",
    "    {\n",
    "        'regressor': [Ridge()],\n",
    "        'preprocessing': [StandardScaler(), None],\n",
    "        'regressor__alpha': [0.1, 1, 10]\n",
    "    },\n",
    "    {\n",
    "        'regressor': [LinearRegression()],\n",
    "        'preprocessing': [StandardScaler(), None],\n",
    "    },\n",
    "    {\n",
    "        'regressor': [RandomForestRegressor()],\n",
    "        'preprocessing': [None],  \n",
    "        'regressor__n_estimators': [10,  100],          \n",
    "        'regressor__max_depth': [None, 10, 20] \n",
    "    }    \n",
    "]"
   ]
  },
  {
   "cell_type": "code",
   "execution_count": 32,
   "id": "47d99034",
   "metadata": {},
   "outputs": [
    {
     "data": {
      "text/plain": [
       "GridSearchCV(cv=5,\n",
       "             estimator=Pipeline(steps=[('preprocessing', StandardScaler()),\n",
       "                                       ('regressor', LinearRegression())]),\n",
       "             param_grid=[{'preprocessing': [StandardScaler(), None],\n",
       "                          'regressor': [Ridge(alpha=10)],\n",
       "                          'regressor__alpha': [0.1, 1, 10]},\n",
       "                         {'preprocessing': [StandardScaler(), None],\n",
       "                          'regressor': [LinearRegression()]},\n",
       "                         {'preprocessing': [None],\n",
       "                          'regressor': [RandomForestRegressor()],\n",
       "                          'regressor__max_depth': [None, 10, 20],\n",
       "                          'regressor__n_estimators': [10, 100]}])"
      ]
     },
     "execution_count": 32,
     "metadata": {},
     "output_type": "execute_result"
    }
   ],
   "source": [
    "grid = GridSearchCV(pipeline, param_grid=param_grid, cv=5)\n",
    "grid.fit(X_train, y_train)"
   ]
  },
  {
   "cell_type": "code",
   "execution_count": 21,
   "id": "379f5a48",
   "metadata": {},
   "outputs": [
    {
     "name": "stdout",
     "output_type": "stream",
     "text": [
      "{'preprocessing': None, 'regressor': Ridge(alpha=10), 'regressor__alpha': 10}\n",
      "-0.03972829293418667\n"
     ]
    }
   ],
   "source": [
    "print(grid.best_params_)\n",
    "print(grid.score(X_test, y_test))"
   ]
  }
 ],
 "metadata": {
  "kernelspec": {
   "display_name": "Python 3",
   "language": "python",
   "name": "python3"
  },
  "language_info": {
   "codemirror_mode": {
    "name": "ipython",
    "version": 3
   },
   "file_extension": ".py",
   "mimetype": "text/x-python",
   "name": "python",
   "nbconvert_exporter": "python",
   "pygments_lexer": "ipython3",
   "version": "3.8.8"
  }
 },
 "nbformat": 4,
 "nbformat_minor": 5
}
