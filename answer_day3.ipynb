{
 "cells": [
  {
   "cell_type": "markdown",
   "id": "50be937f",
   "metadata": {},
   "source": [
    "### 復習問題1\n",
    "関数を作ってください．  \n",
    "関数の引数はリストと文字，戻り値はリストだけです．  \n",
    "引数のリストは，色々な人の名前が格納されています．  \n",
    "その名前の先頭の文字が引数で与えられた文字である名前だけを取得したいです．\n",
    "\n",
    "つまり，Alive, Bobなどが与えられ，文字にAが与えられたとしたら，Aliceだけを返してください．"
   ]
  },
  {
   "cell_type": "code",
   "execution_count": 4,
   "id": "3c92a52d",
   "metadata": {},
   "outputs": [
    {
     "name": "stdout",
     "output_type": "stream",
     "text": [
      "['Alice', 'Ao']\n"
     ]
    }
   ],
   "source": [
    "def select_names(names, start_char):\n",
    "    return_names = []\n",
    "    for name in names:\n",
    "        if name[0] == start_char:\n",
    "            return_names.append(name)\n",
    "    return return_names\n",
    "\n",
    "# テスト用\n",
    "names_list = [\"Alice\", \"Bob\", \"Charlie\", \"David\", \"Eve\", \"Ao\"]\n",
    "start_char = \"A\"\n",
    "selected_names = select_names(names_list, start_char)\n",
    "print(selected_names)  # [\"Alice\", \"Ao\"]"
   ]
  },
  {
   "cell_type": "markdown",
   "id": "547e6a0a",
   "metadata": {},
   "source": [
    "### 復習問題2\n",
    "特徴量が4つわかっている100人の患者がいるとします．  \n",
    "その患者が病気をもっているかどうかを分類してください．  \n",
    "k-NNを用いて分類してください．"
   ]
  },
  {
   "cell_type": "code",
   "execution_count": 9,
   "id": "af5ab282",
   "metadata": {},
   "outputs": [],
   "source": [
    "import numpy as np\n",
    "\n",
    "np.random.seed(0)\n",
    "X = np.random.rand(100, 4)  # 100人の患者、4つの特徴量\n",
    "y = np.random.randint(0, 2, 100)  # 病気の有無（0または1）"
   ]
  },
  {
   "cell_type": "code",
   "execution_count": 11,
   "id": "dc3a2c68",
   "metadata": {},
   "outputs": [],
   "source": [
    "from sklearn.neighbors import KNeighborsClassifier\n",
    "from sklearn.model_selection import train_test_split\n",
    "from sklearn.metrics import accuracy_score\n",
    "\n",
    "X_train, X_test, y_train, y_test = train_test_split(X, y, random_state = 0)"
   ]
  },
  {
   "cell_type": "code",
   "execution_count": 14,
   "id": "81e8cd62",
   "metadata": {},
   "outputs": [
    {
     "data": {
      "text/plain": [
       "KNeighborsClassifier(n_neighbors=1)"
      ]
     },
     "execution_count": 14,
     "metadata": {},
     "output_type": "execute_result"
    }
   ],
   "source": [
    "knn = KNeighborsClassifier(n_neighbors = 1)\n",
    "knn.fit(X_train, y_train)"
   ]
  },
  {
   "cell_type": "code",
   "execution_count": 15,
   "id": "faeb3774",
   "metadata": {},
   "outputs": [
    {
     "name": "stdout",
     "output_type": "stream",
     "text": [
      "0.4\n",
      "0.4\n"
     ]
    },
    {
     "name": "stderr",
     "output_type": "stream",
     "text": [
      "C:\\Users\\S2\\anaconda3\\lib\\site-packages\\sklearn\\neighbors\\_classification.py:211: FutureWarning: Unlike other reduction functions (e.g. `skew`, `kurtosis`), the default behavior of `mode` typically preserves the axis it acts along. In SciPy 1.11.0, this behavior will change: the default value of `keepdims` will become False, the `axis` over which the statistic is taken will be eliminated, and the value None will no longer be accepted. Set `keepdims` to True or False to avoid this warning.\n",
      "  mode, _ = stats.mode(_y[neigh_ind, k], axis=1)\n",
      "C:\\Users\\S2\\anaconda3\\lib\\site-packages\\sklearn\\neighbors\\_classification.py:211: FutureWarning: Unlike other reduction functions (e.g. `skew`, `kurtosis`), the default behavior of `mode` typically preserves the axis it acts along. In SciPy 1.11.0, this behavior will change: the default value of `keepdims` will become False, the `axis` over which the statistic is taken will be eliminated, and the value None will no longer be accepted. Set `keepdims` to True or False to avoid this warning.\n",
      "  mode, _ = stats.mode(_y[neigh_ind, k], axis=1)\n"
     ]
    }
   ],
   "source": [
    "y_pred = knn.predict(X_test)\n",
    "print(np.mean(y_pred == y_test))\n",
    "print(knn.score(X_test, y_test))"
   ]
  },
  {
   "cell_type": "markdown",
   "id": "6093f227",
   "metadata": {},
   "source": [
    "### 問題1\n",
    "以下の問題を〇か×かで答えて下さい．\n",
    "1. k-NNではモデルを事前に構築するため，新しいデータポイントの分類のための計算は比較的小さい．\n",
    "2. k-NNでは，訓練セットのサイズが大きくなると予測時間が長くなる傾向がある．\n",
    "3. k-NNは計算コストが高く大規模データセットにはあまり適しておらず，他のアルゴリズムに比べて利用頻度が低い．"
   ]
  },
  {
   "cell_type": "markdown",
   "id": "d898543a",
   "metadata": {},
   "source": [
    "1 ×\n",
    "2 〇\n",
    "3 〇\n",
    "\n",
    "k-NNは事前にモデルを構築しないので，分類の距離計算に時間がかかる．  \n",
    "訓練セットが大きいと距離計算に時間がかかり，予測時間が長くなる．  \n",
    "よって大規模データセットに適していない．  \n",
    "また，特徴量が0となるデータセットでは性能が悪い．"
   ]
  },
  {
   "cell_type": "markdown",
   "id": "aacfa098",
   "metadata": {},
   "source": [
    "### 問題2\n",
    "以下の問題を〇か×かで答えて下さい．\n",
    "1. 線形回帰モデルは，データが線形関係にあるという仮定のもとで最適な予測を行う．\n",
    "2. リッジ回帰はL2正則化を用いることで，回帰係数が大きくなりすぎるのを防ぎ、モデルの過学習を抑制する．\n",
    "3. Lasso回帰はL1正則化を用いることで，不要な特徴の係数を完全にゼロにする．\n",
    "4. 線形回帰、リッジ回帰、Lasso回帰のいずれも、訓練前にデータの正規化や標準化は不必要である．\n",
    "\n",
    "1× 2〇 3〇 4×\n",
    "\n",
    "データ間の線形関係をモデル化するが，データが完全に線形である必要はない．  \n",
    "リッジ回帰，Lasso回帰はそれぞれL2正規化とL1正規化を用いて，過学習を抑制する．  \n",
    "正規化や標準化などの変数のスケール調整が必要．  \n",
    "それはリッジやLassoの正規化項に影響するため．  \n",
    "普通の線形回帰もしたほうがいい．"
   ]
  },
  {
   "cell_type": "markdown",
   "id": "6b993b9c",
   "metadata": {},
   "source": [
    "### 問題3\n",
    "住宅価格の予測モデルを作成してください．  \n",
    "各住宅は特徴量5つをもっています．  \n",
    "正解値は住宅価格です．\n",
    "\n",
    "リッジ回帰を使用して回帰分析してください．"
   ]
  },
  {
   "cell_type": "code",
   "execution_count": 18,
   "id": "e1049bf6",
   "metadata": {},
   "outputs": [
    {
     "name": "stdout",
     "output_type": "stream",
     "text": [
      "RMSE: 344878.3821510375\n",
      "R² score: -0.29448951830821835\n"
     ]
    }
   ],
   "source": [
    "from sklearn.model_selection import train_test_split\n",
    "from sklearn.linear_model import Ridge\n",
    "from sklearn.metrics import mean_squared_error, r2_score\n",
    "import numpy as np\n",
    "\n",
    "# 仮のデータ生成（実際には実データをロードする必要があります）\n",
    "np.random.seed(0)\n",
    "X = np.random.rand(100, 5)  # 100住宅分の5つの特徴量\n",
    "y = np.random.rand(100) * 1000000  # 住宅価格\n",
    "\n",
    "X_train, X_test, y_train, y_test = train_test_split(X, y, random_state=0)\n",
    "\n",
    "\n",
    "ridge = Ridge(alpha=1.0)\n",
    "ridge.fit(X_train, y_train)\n",
    "\n",
    "y_pred = ridge.predict(X_test)\n",
    "\n",
    "print(\"RMSE:\", mean_squared_error(y_test, y_pred, squared=False))\n",
    "print(\"R² score:\", r2_score(y_test, y_pred))"
   ]
  },
  {
   "cell_type": "code",
   "execution_count": null,
   "id": "160fd9e3",
   "metadata": {},
   "outputs": [],
   "source": []
  }
 ],
 "metadata": {
  "kernelspec": {
   "display_name": "Python 3",
   "language": "python",
   "name": "python3"
  },
  "language_info": {
   "codemirror_mode": {
    "name": "ipython",
    "version": 3
   },
   "file_extension": ".py",
   "mimetype": "text/x-python",
   "name": "python",
   "nbconvert_exporter": "python",
   "pygments_lexer": "ipython3",
   "version": "3.8.8"
  }
 },
 "nbformat": 4,
 "nbformat_minor": 5
}
