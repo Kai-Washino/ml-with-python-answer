{
 "cells": [
  {
   "cell_type": "markdown",
   "id": "53ebb9f2",
   "metadata": {},
   "source": [
    "### 復習問題1\n",
    "成績dictが与えられています．  \n",
    "その成績dictから平均点を算出する関数を作ってください．\n",
    "関数は以下2つ\n",
    "- subject_average\n",
    "- total_average\n",
    "\n",
    "subject_averageは全生徒の各科目の平均点を辞書形式で返す関数  \n",
    "total_averageは全生徒の全科目の平均点をfloatで返す関数  "
   ]
  },
  {
   "cell_type": "code",
   "execution_count": 75,
   "id": "828832f4",
   "metadata": {},
   "outputs": [],
   "source": [
    "grades = [\n",
    "    {\"math\": 90, \"science\": 92, \"english\": 85},\n",
    "    {\"math\": 85, \"science\": 88, \"english\": 85},\n",
    "    {\"math\": 78, \"science\": 82, \"english\": 80},\n",
    "    {\"math\": 92, \"science\": 90, \"english\": 92}\n",
    "]"
   ]
  },
  {
   "cell_type": "code",
   "execution_count": 76,
   "id": "a89d1f11",
   "metadata": {},
   "outputs": [],
   "source": [
    "def subject_average(grades):   \n",
    "    student_num = len(grades)\n",
    "    subject_num = len(grades[0]) \n",
    "    \n",
    "    \n",
    "    sum = [0] * (subject_num)     \n",
    "    for grade in grades:\n",
    "        for i in range(subject_num):\n",
    "            sum[i] += list(grade.values())[i]\n",
    "    \n",
    "    average = {}\n",
    "    for idx, key in enumerate(grades[0]):\n",
    "            average[key] = sum[idx]/student_num\n",
    "    return average"
   ]
  },
  {
   "cell_type": "code",
   "execution_count": 77,
   "id": "f1b373c3",
   "metadata": {},
   "outputs": [],
   "source": [
    "def total_average(grades):\n",
    "    sub_average = subject_average(grades)\n",
    "    values = list(sub_average.values())\n",
    "    total_average = sum(values)/len(values)\n",
    "    return total_average"
   ]
  },
  {
   "cell_type": "code",
   "execution_count": 78,
   "id": "f8fad8e1",
   "metadata": {},
   "outputs": [
    {
     "data": {
      "text/plain": [
       "{'math': 86.25, 'science': 88.0, 'english': 85.5}"
      ]
     },
     "execution_count": 78,
     "metadata": {},
     "output_type": "execute_result"
    }
   ],
   "source": [
    "subject_average(grades)"
   ]
  },
  {
   "cell_type": "code",
   "execution_count": 79,
   "id": "aaf6c648",
   "metadata": {},
   "outputs": [
    {
     "data": {
      "text/plain": [
       "86.58333333333333"
      ]
     },
     "execution_count": 79,
     "metadata": {},
     "output_type": "execute_result"
    }
   ],
   "source": [
    "total_average(grades)"
   ]
  },
  {
   "cell_type": "markdown",
   "id": "3fcaed16",
   "metadata": {},
   "source": [
    "### 問題1\n",
    "がくの長さがsepal_lengthで  \n",
    "花びらの長さがpetal_lengthのアヤメがあります．  \n",
    "それらの答えはlabelです．\n",
    "\n",
    "さて，random forestを用いて分類して下さい．"
   ]
  },
  {
   "cell_type": "code",
   "execution_count": 80,
   "id": "1a42ce79",
   "metadata": {},
   "outputs": [],
   "source": [
    "import numpy as np\n",
    "sepal_length = np.array([5.9, 5.8, 6.8, 4.7, 6.9, 5.0, 5.4, 5.0, 6.5, 6.7, 6.0, 6.7, 5.6, 7.7, 6.3, 5.5, 6.3, 6.3, 4.9, 6.3, 7.0, 6.5, 6.0, 4.8, 5.8, 5.6, 5.6, 5.5, 6.1, 7.2, 5.3, 4.3, 6.4, 5.7, 5.4, 5.7, 6.9, 4.6, 5.9, 5.1, 4.6, 6.2, 7.2, 5.7, 4.8, 7.1, 6.9, 6.5, 6.4, 5.1, 4.8, 6.5, 6.7, 4.5, 6.2, 4.9, 5.7, 6.9, 4.4, 5.0, 7.2, 5.1, 4.4, 5.4, 5.5, 6.8, 7.6, 5.1, 4.9, 5.2, 5.7, 6.6, 5.0, 5.1, 6.4, 5.4, 7.7, 4.9, 7.9, 6.7, 5.2, 6.0, 5.8, 7.7, 5.1, 4.7, 7.4, 5.0, 6.3, 5.7, 5.8, 5.7, 6.4, 6.7, 6.3, 6.7, 5.0, 5.5, 6.7, 5.8, 5.1, 6.6, 5.6, 5.9, 6.3, 5.5, 5.1, 4.9, 6.3, 5.8, 7.7, 4.6])\n",
    "petal_length = np.array([4.2, 4.0, 5.5, 1.3, 5.1, 1.6, 1.5, 3.5, 5.5, 5.7, 5.0, 5.8, 3.9, 6.1, 4.7, 3.8, 4.9, 5.1, 4.5, 5.0, 4.7, 5.2, 4.5, 1.6, 5.1, 4.2, 3.6, 4.0, 4.6, 6.0, 1.5, 1.1, 5.3, 4.2, 1.7, 1.5, 4.9, 1.5, 5.1, 3.0, 1.4, 4.5, 6.1, 4.2, 1.4, 5.9, 5.7, 5.8, 5.6, 1.6, 1.6, 5.1, 5.7, 1.3, 5.4, 1.4, 5.0, 5.4, 1.3, 1.4, 5.8, 1.4, 1.3, 1.7, 4.0, 5.9, 6.6, 1.4, 1.5, 1.4, 4.5, 4.4, 1.2, 1.7, 4.3, 1.5, 6.9, 3.3, 6.4, 4.4, 1.5, 4.8, 1.2, 6.7, 1.5, 1.6, 6.1, 1.4, 5.6, 4.1, 3.9, 3.5, 5.3, 5.2, 4.9, 5.0, 1.6, 3.7, 5.6, 5.1, 1.5, 4.6, 4.1, 4.8, 4.4, 1.3, 1.5, 1.5, 5.6, 4.1, 6.7, 1.4])\n",
    "label = np.array([1, 1, 2, 0, 2, 0, 0, 1, 2, 2, 2, 2, 1, 2, 1, 1, 2, 2, 2, 2, 1, 2, 1, 0, 2, 1, 1, 1, 1, 2, 0, 0, 2, 1, 0, 0, 1, 0, 2, 1, 0, 1, 2, 1, 0, 2, 2, 2, 2, 0, 0, 2, 2, 0, 2, 0, 2, 2, 0, 0, 2, 0, 0, 0, 1, 2, 2, 0, 0, 0, 1, 1, 0, 0, 1, 0, 2, 1, 2, 1, 0, 2, 0, 2, 0, 0, 2, 0, 2, 1, 1, 1, 2, 2, 1, 1, 0, 1, 2, 2, 0, 1, 1, 1, 1, 0, 0, 0, 2, 1, 2, 0])\n",
    "\n",
    "iris_dataset = np.column_stack((sepal_length, petal_length))"
   ]
  },
  {
   "cell_type": "code",
   "execution_count": 83,
   "id": "d0fb5d1d",
   "metadata": {},
   "outputs": [
    {
     "name": "stdout",
     "output_type": "stream",
     "text": [
      "0.9642857142857143\n",
      "0.9642857142857143\n"
     ]
    }
   ],
   "source": [
    "from sklearn.model_selection import train_test_split\n",
    "from sklearn.ensemble import RandomForestClassifier\n",
    "\n",
    "X_train, X_test, y_train, y_test = train_test_split(iris_dataset, label, random_state = 0)\n",
    "model = RandomForestClassifier(n_estimators=100, random_state=42)\n",
    "model.fit(X_train, y_train)\n",
    "\n",
    "y_pred = model.predict(X_test)\n",
    "print(np.mean(y_pred == y_test))\n",
    "print(model.score(X_test, y_test))"
   ]
  },
  {
   "cell_type": "code",
   "execution_count": null,
   "id": "a1af4148",
   "metadata": {},
   "outputs": [],
   "source": []
  }
 ],
 "metadata": {
  "kernelspec": {
   "display_name": "Python 3",
   "language": "python",
   "name": "python3"
  },
  "language_info": {
   "codemirror_mode": {
    "name": "ipython",
    "version": 3
   },
   "file_extension": ".py",
   "mimetype": "text/x-python",
   "name": "python",
   "nbconvert_exporter": "python",
   "pygments_lexer": "ipython3",
   "version": "3.8.8"
  }
 },
 "nbformat": 4,
 "nbformat_minor": 5
}
