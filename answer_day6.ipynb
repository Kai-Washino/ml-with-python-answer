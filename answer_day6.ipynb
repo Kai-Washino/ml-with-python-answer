{
 "cells": [
  {
   "cell_type": "markdown",
   "id": "60045555",
   "metadata": {},
   "source": [
    "### 問題1\n",
    "今まで本に出てきた回帰の機械学習モデルを全て答えてください．\n",
    "- k-NN\n",
    "- 線形回帰\n",
    "- リッジ回帰\n",
    "- Lasso\n",
    "- ランダムフォレスト\n",
    "- 勾配ブースティング回帰木\n",
    "- SVR"
   ]
  },
  {
   "cell_type": "markdown",
   "id": "4d3b1f30",
   "metadata": {},
   "source": [
    "### 問題2\n",
    "今まで本に出てきた分類の機械学習モデルを全て答えてください．\n",
    "- k-NN\n",
    "- ナイーブベイズ\n",
    "- 決定木\n",
    "- ランダムフォレスト\n",
    "- 勾配ブースティング回帰木\n",
    "- SVC\n",
    "- t-SNE\n",
    "- k-means\n",
    "- 凝結型クラスタリング\n",
    "- DBSCAN"
   ]
  },
  {
   "cell_type": "code",
   "execution_count": null,
   "id": "cfb5ca8f",
   "metadata": {},
   "outputs": [],
   "source": []
  }
 ],
 "metadata": {
  "kernelspec": {
   "display_name": "Python 3",
   "language": "python",
   "name": "python3"
  },
  "language_info": {
   "codemirror_mode": {
    "name": "ipython",
    "version": 3
   },
   "file_extension": ".py",
   "mimetype": "text/x-python",
   "name": "python",
   "nbconvert_exporter": "python",
   "pygments_lexer": "ipython3",
   "version": "3.8.8"
  }
 },
 "nbformat": 4,
 "nbformat_minor": 5
}
