{
 "cells": [
  {
   "cell_type": "markdown",
   "id": "e61cdd32",
   "metadata": {},
   "source": [
    "### 問題1\n",
    "下記データをone-hot-encodeingしてください．"
   ]
  },
  {
   "cell_type": "code",
   "execution_count": 16,
   "id": "0eb9b38a",
   "metadata": {},
   "outputs": [
    {
     "name": "stdout",
     "output_type": "stream",
     "text": [
      "   性別  体重   身長\n",
      "0  男性  70  180\n",
      "1  女性  55  165\n",
      "2  女性  60  170\n",
      "3  男性  80  190\n",
      "4  女性  65  175\n",
      "5  女性  50  160\n",
      "6  男性  90  185\n",
      "7  男性  85  178\n",
      "8  女性  45  158\n",
      "9  男性  75  182\n"
     ]
    }
   ],
   "source": [
    "import pandas as pd\n",
    "\n",
    "data = {\n",
    "    '性別': ['男性', '女性', '女性', '男性', '女性', '女性', '男性', '男性', '女性', '男性'],\n",
    "    '体重': [70, 55, 60, 80, 65, 50, 90, 85, 45, 75],\n",
    "    '身長': [180, 165, 170, 190, 175, 160, 185, 178, 158, 182]\n",
    "}\n",
    "df = pd.DataFrame(data)\n",
    "print(df)"
   ]
  },
  {
   "cell_type": "code",
   "execution_count": 17,
   "id": "6fa8576b",
   "metadata": {},
   "outputs": [
    {
     "name": "stdout",
     "output_type": "stream",
     "text": [
      "   体重   身長  性別_女性  性別_男性\n",
      "0  70  180      0      1\n",
      "1  55  165      1      0\n",
      "2  60  170      1      0\n",
      "3  80  190      0      1\n",
      "4  65  175      1      0\n",
      "5  50  160      1      0\n",
      "6  90  185      0      1\n",
      "7  85  178      0      1\n",
      "8  45  158      1      0\n",
      "9  75  182      0      1\n"
     ]
    }
   ],
   "source": [
    "df_one_hot = pd.get_dummies(df, columns=['性別'])\n",
    "print(df_one_hot)"
   ]
  },
  {
   "cell_type": "code",
   "execution_count": 6,
   "id": "264b929c",
   "metadata": {},
   "outputs": [
    {
     "name": "stdout",
     "output_type": "stream",
     "text": [
      "   体重   身長  性別_女性  性別_男性\n",
      "0  70  180      0      1\n",
      "1  55  165      1      0\n",
      "2  60  170      1      0\n",
      "3  80  190      0      1\n",
      "4  65  175      1      0\n",
      "5  50  160      1      0\n",
      "6  90  185      0      1\n",
      "7  85  178      0      1\n",
      "8  45  158      1      0\n",
      "9  75  182      0      1\n"
     ]
    }
   ],
   "source": [
    "df_one_hot = pd.get_dummies(df)\n",
    "print(df_one_hot)"
   ]
  },
  {
   "cell_type": "code",
   "execution_count": 19,
   "id": "b9099e53",
   "metadata": {},
   "outputs": [
    {
     "name": "stdout",
     "output_type": "stream",
     "text": [
      "   体重_bin1  体重_bin2  体重_bin3  身長_bin1  身長_bin2  身長_bin3\n",
      "0      0.0      1.0      0.0      0.0      0.0      1.0\n",
      "1      1.0      0.0      0.0      1.0      0.0      0.0\n",
      "2      0.0      1.0      0.0      0.0      1.0      0.0\n",
      "3      0.0      0.0      1.0      0.0      0.0      1.0\n",
      "4      0.0      1.0      0.0      0.0      1.0      0.0\n",
      "5      1.0      0.0      0.0      1.0      0.0      0.0\n",
      "6      0.0      0.0      1.0      0.0      0.0      1.0\n",
      "7      0.0      0.0      1.0      0.0      1.0      0.0\n",
      "8      1.0      0.0      0.0      1.0      0.0      0.0\n",
      "9      0.0      0.0      1.0      0.0      0.0      1.0\n",
      "   体重   身長  性別_女性  性別_男性  体重_bin1  体重_bin2  体重_bin3  身長_bin1  身長_bin2  身長_bin3\n",
      "0  70  180      0      1      0.0      1.0      0.0      0.0      0.0      1.0\n",
      "1  55  165      1      0      1.0      0.0      0.0      1.0      0.0      0.0\n",
      "2  60  170      1      0      0.0      1.0      0.0      0.0      1.0      0.0\n",
      "3  80  190      0      1      0.0      0.0      1.0      0.0      0.0      1.0\n",
      "4  65  175      1      0      0.0      1.0      0.0      0.0      1.0      0.0\n",
      "5  50  160      1      0      1.0      0.0      0.0      1.0      0.0      0.0\n",
      "6  90  185      0      1      0.0      0.0      1.0      0.0      0.0      1.0\n",
      "7  85  178      0      1      0.0      0.0      1.0      0.0      1.0      0.0\n",
      "8  45  158      1      0      1.0      0.0      0.0      1.0      0.0      0.0\n",
      "9  75  182      0      1      0.0      0.0      1.0      0.0      0.0      1.0\n"
     ]
    }
   ],
   "source": [
    "from sklearn.preprocessing import KBinsDiscretizer\n",
    "\n",
    "kb = KBinsDiscretizer(n_bins=3, strategy='uniform', encode='onehot-dense')\n",
    "\n",
    "data_array = df_one_hot[['体重', '身長']].values\n",
    "\n",
    "# KBinsDiscretizerをfitし、ビニング適用\n",
    "kb.fit(data_array)\n",
    "data_binned = kb.transform(data_array)\n",
    "\n",
    "# 結果をDataFrameに変換して表示\n",
    "bin_columns = [f'体重_bin{i+1}' for i in range(3)] + [f'身長_bin{i+1}' for i in range(3)]\n",
    "df_binned = pd.DataFrame(data_binned, columns=bin_columns)\n",
    "print(df_binned)\n",
    "\n",
    "df_one_hot_binnend = pd.concat([df_one_hot, df_binned], axis=1)\n",
    "print(df_one_hot_binnend)"
   ]
  },
  {
   "cell_type": "code",
   "execution_count": 22,
   "id": "b87fe917",
   "metadata": {},
   "outputs": [
    {
     "data": {
      "text/plain": [
       "Text(0, 0.5, 'Frequency')"
      ]
     },
     "execution_count": 22,
     "metadata": {},
     "output_type": "execute_result"
    },
    {
     "data": {
      "image/png": "[encoded data removed]",
      "text/plain": [
       "<Figure size 864x432 with 1 Axes>"
      ]
     },
     "metadata": {
      "needs_background": "light"
     },
     "output_type": "display_data"
    }
   ],
   "source": [
    "import numpy as np\n",
    "import matplotlib.pyplot as plt\n",
    "\n",
    "lambda_ = 2\n",
    "poisson_data = np.random.poisson(lam=lambda_, size=1000)\n",
    "\n",
    "plt.figure(figsize=(12, 6))\n",
    "plt.subplot(1, 2, 1)\n",
    "plt.hist(poisson_data, bins=30, alpha=0.7, color='blue')\n",
    "plt.title(\"Poisson Distribution\")\n",
    "plt.xlabel(\"Data points\")\n",
    "plt.ylabel(\"Frequency\")"
   ]
  },
  {
   "cell_type": "code",
   "execution_count": 23,
   "id": "5de0b965",
   "metadata": {},
   "outputs": [
    {
     "data": {
      "image/png": "[encoded data removed]",
      "text/plain": [
       "<Figure size 432x288 with 1 Axes>"
      ]
     },
     "metadata": {
      "needs_background": "light"
     },
     "output_type": "display_data"
    }
   ],
   "source": [
    "log_poisson_data = np.log(poisson_data + 1)\n",
    "\n",
    "plt.subplot(1, 2, 2)\n",
    "plt.hist(log_poisson_data, bins=30, alpha=0.7, color='green')\n",
    "plt.title(\"Log-transformed Poisson Distribution\")\n",
    "plt.xlabel(\"Data points\")\n",
    "plt.ylabel(\"Frequency\")\n",
    "\n",
    "plt.tight_layout()\n",
    "plt.show()"
   ]
  },
  {
   "cell_type": "code",
   "execution_count": null,
   "id": "5cb43f05",
   "metadata": {},
   "outputs": [],
   "source": []
  }
 ],
 "metadata": {
  "kernelspec": {
   "display_name": "Python 3",
   "language": "python",
   "name": "python3"
  },
  "language_info": {
   "codemirror_mode": {
    "name": "ipython",
    "version": 3
   },
   "file_extension": ".py",
   "mimetype": "text/x-python",
   "name": "python",
   "nbconvert_exporter": "python",
   "pygments_lexer": "ipython3",
   "version": "3.8.8"
  }
 },
 "nbformat": 4,
 "nbformat_minor": 5
}
